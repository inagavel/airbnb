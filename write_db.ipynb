{
 "cells": [
  {
   "cell_type": "code",
   "execution_count": null,
   "metadata": {
    "scrolled": true
   },
   "outputs": [],
   "source": [
    "from airbnb_mysql import *\n",
    "import csv\n",
    "import os"
   ]
  },
  {
   "cell_type": "code",
   "execution_count": null,
   "metadata": {
    "scrolled": true
   },
   "outputs": [],
   "source": [
    "query = \"\"\"\n",
    "        CREATE TABLE IF NOT EXISTS rented_apartment (\n",
    "        id INTEGER AUTO_INCREMENT,\n",
    "        neighbourhood VARCHAR(255),\n",
    "        latitude DOUBLE,\n",
    "        longitude DOUBLE,\n",
    "        room_type   VARCHAR(255),\n",
    "        price      DOUBLE,\n",
    "        month   VARCHAR(255),\n",
    "        city   VARCHAR(255),\n",
    "        PRIMARY KEY (id)\n",
    "         );\n",
    "        \"\"\"\n",
    "\n",
    "port_name = '3306'\n",
    "user_name = 'root'\n",
    "user_password = 'root'\n",
    "host_name = 'localhost'\n",
    "\n",
    "\n",
    "db = 'airbnb'\n",
    "cnx = create_db_connection(user=user_name, password=user_name, host=host_name, db_name=db, port=port_name)\n",
    "execute_query(cnx, query)\n",
    "cnx.close()\n",
    "\n"
   ]
  },
  {
   "cell_type": "code",
   "execution_count": null,
   "metadata": {
    "scrolled": true
   },
   "outputs": [],
   "source": [
    "def write_in_db(month,city):\n",
    "    filedir = os.path.abspath(\"D:/Master-20-21/S2/BigData/projet/airbnb\")\n",
    "    filename = city+'/'+month+\".csv\"\n",
    "    filepath = os.path.join(filedir, filename)\n",
    "\n",
    "    city=\"paris\"\n",
    "\n",
    "    with open(filepath, 'r', encoding='Latin1') as csv_file:\n",
    "        csv_reader = csv.reader(csv_file)\n",
    "\n",
    "        list_app = []\n",
    "        for line in csv_reader:\n",
    "            app_id = line[0]\n",
    "            neighbourhood = line[5]\n",
    "            latitude = line[6]\n",
    "            longitude = line[7]\n",
    "            room_type = line[8]\n",
    "            price = line[9]\n",
    "            apartment = (app_id, neighbourhood, latitude, longitude, room_type, price, month, city)\n",
    "            list_app.append(apartment)\n",
    "\n",
    "    port_name = '3306'\n",
    "    user_name = 'root'\n",
    "    user_password = 'root'\n",
    "    host_name = 'localhost'\n",
    "    db = 'airbnb'\n",
    "\n",
    "    cnx = create_db_connection(user=user_name, password=user_name, host=host_name, db_name=db, port=port_name)\n",
    "    for app in list_app:\n",
    "        print(app)\n",
    "        insert_query = '''\n",
    "        INSERT INTO rented_apartment VALUES\n",
    "        {}\n",
    "        '''.format(app)\n",
    "        execute_query(cnx, insert_query)\n",
    "\n",
    "    cnx.close()\n"
   ]
  },
  {
   "cell_type": "code",
   "execution_count": null,
   "metadata": {},
   "outputs": [],
   "source": [
    "write_in_db('january','paris')"
   ]
  },
  {
   "cell_type": "markdown",
   "metadata": {},
   "source": [
    "# Test\n"
   ]
  },
  {
   "cell_type": "code",
   "execution_count": null,
   "metadata": {
    "scrolled": true
   },
   "outputs": [],
   "source": [
    "import seaborn as sns\n",
    "import pandas as pd\n",
    "import matplotlib.pyplot as plt\n",
    "import numpy as np"
   ]
  }
 ],
 "metadata": {
  "kernelspec": {
   "display_name": "Python 3",
   "language": "python",
   "name": "python3"
  },
  "language_info": {
   "codemirror_mode": {
    "name": "ipython",
    "version": 3
   },
   "file_extension": ".py",
   "mimetype": "text/x-python",
   "name": "python",
   "nbconvert_exporter": "python",
   "pygments_lexer": "ipython3",
   "version": "3.9.1"
  }
 },
 "nbformat": 4,
 "nbformat_minor": 4
}
