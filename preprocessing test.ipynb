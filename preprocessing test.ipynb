{
 "cells": [
  {
   "cell_type": "markdown",
   "metadata": {},
   "source": [
    "# import"
   ]
  },
  {
   "cell_type": "code",
   "execution_count": 8,
   "metadata": {},
   "outputs": [],
   "source": [
    "from airbnb_mysql import *\n",
    "import seaborn as sns\n",
    "import pandas as pd\n",
    "import matplotlib.pyplot as plt\n",
    "import numpy as np"
   ]
  },
  {
   "cell_type": "markdown",
   "metadata": {},
   "source": [
    "# Connexion to database"
   ]
  },
  {
   "cell_type": "code",
   "execution_count": 9,
   "metadata": {},
   "outputs": [
    {
     "name": "stdout",
     "output_type": "stream",
     "text": [
      "MySQL Database connection successful\n"
     ]
    }
   ],
   "source": [
    "port_name = '3306'\n",
    "user_name = 'root'\n",
    "user_password = 'root'\n",
    "host_name = 'localhost'\n",
    "db = 'airbnb'\n",
    "\n",
    "connection = create_db_connection(user=user_name, password=user_name, host=host_name, db_name=db, port=port_name)\n",
    "\n",
    "query = \"\"\"\n",
    "        SELECT * FROM apartment;\n",
    "\"\"\"\n",
    "\n",
    "col_name = [\"id\", \"neighbour\", \"lat\", \"long\", \"r_type\", \"price\", \"nbr_rev\", \"rev_per_month\"]\n",
    "data = db_to_df(connection, query, col_name)"
   ]
  },
  {
   "cell_type": "markdown",
   "metadata": {},
   "source": [
    "# Preprocessing"
   ]
  },
  {
   "cell_type": "code",
   "execution_count": 11,
   "metadata": {},
   "outputs": [],
   "source": [
    "df = data.drop([\"id\",\"nbr_rev\",\"rev_per_month\"],axis = 1)"
   ]
  },
  {
   "cell_type": "code",
   "execution_count": null,
   "metadata": {},
   "outputs": [],
   "source": [
    "def r_type"
   ]
  },
  {
   "cell_type": "code",
   "execution_count": null,
   "metadata": {},
   "outputs": [],
   "source": [
    "def encoding"
   ]
  },
  {
   "cell_type": "markdown",
   "metadata": {},
   "source": [
    "# Train test split"
   ]
  },
  {
   "cell_type": "code",
   "execution_count": 13,
   "metadata": {},
   "outputs": [],
   "source": [
    "from sklearn.model_selection import train_test_split"
   ]
  },
  {
   "cell_type": "code",
   "execution_count": 14,
   "metadata": {},
   "outputs": [],
   "source": [
    "train_set,test_set = train_test_split(df,test_size=0.3,random_state=0)"
   ]
  },
  {
   "cell_type": "code",
   "execution_count": null,
   "metadata": {},
   "outputs": [],
   "source": []
  },
  {
   "cell_type": "code",
   "execution_count": 4,
   "metadata": {},
   "outputs": [
    {
     "name": "stdout",
     "output_type": "stream",
     "text": [
      "                lat          long         price\n",
      "count  65858.000000  65858.000000  65858.000000\n",
      "mean      48.864204      2.345344    114.382581\n",
      "std        0.018322      0.033285    220.227932\n",
      "min       48.812850      2.227330      8.000000\n",
      "25%       48.850910      2.324330     60.000000\n",
      "50%       48.865490      2.348250     80.000000\n",
      "75%       48.879070      2.370578    120.000000\n",
      "max       48.904150      2.473790  11600.000000\n",
      "neighbour----------------------------------------- ['EntrepÃ´t' 'Observatoire' 'Temple' 'HÃ´tel-de-Ville' 'OpÃ©ra' 'Louvre'\n",
      " 'Popincourt' 'Buttes-Montmartre' 'Ãx89lysÃ©e' 'PanthÃ©on' 'Gobelins'\n",
      " 'Luxembourg' 'Buttes-Chaumont' 'Palais-Bourbon' 'Reuilly' 'Bourse'\n",
      " 'MÃ©nilmontant' 'Vaugirard' 'Batignolles-Monceau' 'Passy']\n",
      "r_type-------------------------------------------- ['Entire home/apt' 'Private room' 'Hotel room' 'Shared room']\n",
      "                 neighbour       lat     long           r_type  price  nbh  \\\n",
      "0                EntrepÃ´t  48.86993  2.36251  Entire home/apt  125.0    4   \n",
      "1               Luxembourg  48.84948  2.32792  Entire home/apt  440.0    8   \n",
      "2      Batignolles-Monceau  48.88029  2.29929  Entire home/apt  190.0    0   \n",
      "3            MÃ©nilmontant  48.87010  2.40175  Entire home/apt   67.0    9   \n",
      "4            MÃ©nilmontant  48.85725  2.40693  Entire home/apt   61.0    9   \n",
      "...                    ...       ...      ...              ...    ...  ...   \n",
      "65853            Vaugirard  48.85170  2.29035      Shared room   65.0   18   \n",
      "65854         Observatoire  48.81690  2.33945      Shared room   29.0   10   \n",
      "65855      Buttes-Chaumont  48.87735  2.39532      Shared room   59.0    2   \n",
      "65856    Buttes-Montmartre  48.88559  2.36170      Shared room   19.0    3   \n",
      "65857           Popincourt  48.85614  2.37060      Shared room   39.0   15   \n",
      "\n",
      "       room  \n",
      "0         0  \n",
      "1         0  \n",
      "2         0  \n",
      "3         0  \n",
      "4         0  \n",
      "...     ...  \n",
      "65853     3  \n",
      "65854     3  \n",
      "65855     3  \n",
      "65856     3  \n",
      "65857     3  \n",
      "\n",
      "[65858 rows x 7 columns]\n",
      "Entire home/apt    56592\n",
      "Private room        7512\n",
      "Hotel room          1335\n",
      "Shared room          419\n",
      "Name: r_type, dtype: int64\n",
      "r_type\n",
      "Entire home/apt    116.242243\n",
      "Hotel room         224.948315\n",
      "Private room        84.404686\n",
      "Shared room         48.384248\n",
      "Name: price, dtype: float64\n",
      "Buttes-Montmartre      7359\n",
      "Popincourt             6352\n",
      "Vaugirard              4913\n",
      "EntrepÃ´t              4705\n",
      "Batignolles-Monceau    4410\n",
      "MÃ©nilmontant          3817\n",
      "Buttes-Chaumont        3801\n",
      "Passy                  3269\n",
      "OpÃ©ra                 3207\n",
      "Temple                 3006\n",
      "Reuilly                2714\n",
      "Observatoire           2522\n",
      "Gobelins               2315\n",
      "Bourse                 2248\n",
      "PanthÃ©on              2180\n",
      "HÃ´tel-de-Ville        2021\n",
      "Luxembourg             1982\n",
      "Ãx89lysÃ©e             1812\n",
      "Palais-Bourbon         1789\n",
      "Louvre                 1436\n",
      "Name: neighbour, dtype: int64\n",
      "neighbour\n",
      "Batignolles-Monceau    103.674376\n",
      "Bourse                 147.044929\n",
      "Buttes-Chaumont         76.898185\n",
      "Buttes-Montmartre       87.101916\n",
      "EntrepÃ´t              103.487141\n",
      "Gobelins                93.868251\n",
      "HÃ´tel-de-Ville        146.738248\n",
      "Louvre                 174.229109\n",
      "Luxembourg             162.747225\n",
      "MÃ©nilmontant           75.745874\n",
      "Observatoire           100.341792\n",
      "OpÃ©ra                 121.418148\n",
      "Palais-Bourbon         164.653997\n",
      "PanthÃ©on              123.187156\n",
      "Passy                  172.430101\n",
      "Popincourt              91.905699\n",
      "Reuilly                 93.306559\n",
      "Temple                 143.588822\n",
      "Vaugirard              106.389986\n",
      "Ãx89lysÃ©e             214.539183\n",
      "Name: price, dtype: float64\n"
     ]
    },
    {
     "data": {
      "image/png": "[encoded data removed]",
      "text/plain": [
       "<Figure size 432x288 with 1 Axes>"
      ]
     },
     "metadata": {
      "needs_background": "light"
     },
     "output_type": "display_data"
    }
   ],
   "source": [
    "new_df = df.drop(['id', 'nbr_rev', 'rev_per_month'], axis=1)\n",
    "new_df = new_df[df != 0].dropna()\n",
    "#new_df = new_df[df['price'] < 500].dropna()\n",
    "print(new_df.describe())\n",
    "\n",
    "for col in new_df.select_dtypes('object'):\n",
    "    print(f'{col:-<50} {new_df[col].unique()}')\n",
    "\n",
    "#neighbour\n",
    "encoder = LabelEncoder()\n",
    "neigh = encoder.fit_transform(new_df[\"neighbour\"])\n",
    "new_df['nbh'] = neigh\n",
    "\n",
    "#room\n",
    "room_encoder = LabelEncoder()\n",
    "room = room_encoder.fit_transform(new_df[\"r_type\"])\n",
    "new_df[\"room\"] = room\n",
    "\n",
    "new_df.sort_values('room', axis=0, inplace=True)\n",
    "new_df = new_df.reset_index(drop=True)\n",
    "\n",
    "print(new_df)\n",
    "print(new_df['r_type'].value_counts())\n",
    "\n",
    "grouped_df = new_df.groupby(['r_type'])\n",
    "print(grouped_df['price'].mean())\n",
    "\n",
    "print(new_df['neighbour'].value_counts())\n",
    "\n",
    "grouped_df = new_df.groupby(['neighbour'])\n",
    "print(grouped_df['price'].mean())\n",
    "\n",
    "sns.boxplot(x='r_type',y='price',data=new_df)\n",
    "plt.show()"
   ]
  },
  {
   "cell_type": "code",
   "execution_count": null,
   "metadata": {},
   "outputs": [],
   "source": []
  }
 ],
 "metadata": {
  "kernelspec": {
   "display_name": "Python 3",
   "language": "python",
   "name": "python3"
  },
  "language_info": {
   "codemirror_mode": {
    "name": "ipython",
    "version": 3
   },
   "file_extension": ".py",
   "mimetype": "text/x-python",
   "name": "python",
   "nbconvert_exporter": "python",
   "pygments_lexer": "ipython3",
   "version": "3.9.1"
  }
 },
 "nbformat": 4,
 "nbformat_minor": 4
}
