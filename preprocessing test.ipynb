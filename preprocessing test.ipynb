{
 "cells": [
  {
   "cell_type": "markdown",
   "metadata": {},
   "source": [
    "# import"
   ]
  },
  {
   "cell_type": "code",
   "execution_count": 1,
   "metadata": {},
   "outputs": [],
   "source": [
    "from airbnb_mysql import *\n",
    "import seaborn as sns\n",
    "import pandas as pd\n",
    "import matplotlib.pyplot as plt\n",
    "import numpy as np"
   ]
  },
  {
   "cell_type": "markdown",
   "metadata": {},
   "source": [
    "# Connexion to database"
   ]
  },
  {
   "cell_type": "code",
   "execution_count": 2,
   "metadata": {},
   "outputs": [
    {
     "name": "stdout",
     "output_type": "stream",
     "text": [
      "MySQL Database connection successful\n"
     ]
    }
   ],
   "source": [
    "port_name = '3306'\n",
    "user_name = 'root'\n",
    "user_password = 'root'\n",
    "host_name = 'localhost'\n",
    "db = 'airbnb'\n",
    "\n",
    "connection = create_db_connection(user=user_name, password=user_name, host=host_name, db_name=db, port=port_name)\n",
    "\n",
    "query = \"\"\"\n",
    "        SELECT * FROM apartment;\n",
    "\"\"\"\n",
    "\n",
    "col_name = [\"id\", \"neighbour\", \"lat\", \"long\", \"r_type\", \"price\", \"nbr_rev\", \"rev_per_month\"]\n",
    "data = db_to_df(connection, query, col_name)"
   ]
  },
  {
   "cell_type": "markdown",
   "metadata": {},
   "source": [
    "# Preprocessing"
   ]
  },
  {
   "cell_type": "code",
   "execution_count": 44,
   "metadata": {},
   "outputs": [],
   "source": [
    "df = data.drop([\"id\",\"nbr_rev\",\"rev_per_month\"],axis = 1)"
   ]
  },
  {
   "cell_type": "code",
   "execution_count": 40,
   "metadata": {},
   "outputs": [],
   "source": [
    "from sklearn.preprocessing import LabelBinarizer\n",
    "from sklearn.preprocessing import RobustScaler"
   ]
  },
  {
   "cell_type": "code",
   "execution_count": 71,
   "metadata": {},
   "outputs": [],
   "source": [
    "def encoding(df_col):\n",
    "    X = df_col\n",
    "    encoder = LabelBinarizer()\n",
    "    X_t = encoder.fit_transform(X)\n",
    "    column = encoder.classes_\n",
    "    return X_t, column"
   ]
  },
  {
   "cell_type": "code",
   "execution_count": 73,
   "metadata": {},
   "outputs": [],
   "source": [
    "def scaling(df_col):\n",
    "    X = df_col\n",
    "    X = X.to_numpy()\n",
    "    X = np.reshape(X,(-1,1))\n",
    "    scaler = RobustScaler().fit(X)\n",
    "    X_t = scaler.transform(X)\n",
    "    return X_t"
   ]
  },
  {
   "cell_type": "code",
   "execution_count": 74,
   "metadata": {},
   "outputs": [],
   "source": [
    "encod_room, room_col = encoding(df['r_type'])\n",
    "room = pd.DataFrame(encod_room,columns=room_col)\n",
    "\n",
    "\n",
    "encod_neigh, neigh_col = encoding(df['neighbour'])\n",
    "neigh = pd.DataFrame(encod_neigh,columns=neigh_col)\n",
    "scaled_price = scaling(df['price'])"
   ]
  },
  {
   "cell_type": "code",
   "execution_count": 79,
   "metadata": {},
   "outputs": [],
   "source": [
    "frames = [df,room,neigh]\n",
    "clean_df = pd.concat(frames,axis=1)\n",
    "clean_df = clean_df.drop([\"neighbour\",\"r_type\"],axis=1)\n",
    "\n",
    "clean_df['scaled_price']= scaled_price\n",
    "clean_df = clean_df.drop(['price'],axis=1)\n",
    "\n",
    "clean_df = clean_df.drop(['lat','long'],axis =1)"
   ]
  },
  {
   "cell_type": "markdown",
   "metadata": {},
   "source": [
    "# Train test split"
   ]
  },
  {
   "cell_type": "code",
   "execution_count": 33,
   "metadata": {},
   "outputs": [],
   "source": [
    "from sklearn.model_selection import train_test_split"
   ]
  },
  {
   "cell_type": "code",
   "execution_count": 80,
   "metadata": {},
   "outputs": [],
   "source": [
    "train_set,test_set = train_test_split(clean_df,test_size=0.3,random_state=0)"
   ]
  },
  {
   "cell_type": "code",
   "execution_count": 85,
   "metadata": {},
   "outputs": [
    {
     "data": {
      "text/plain": [
       "pandas.core.frame.DataFrame"
      ]
     },
     "execution_count": 85,
     "metadata": {},
     "output_type": "execute_result"
    }
   ],
   "source": [
    "train_set"
   ]
  },
  {
   "cell_type": "markdown",
   "metadata": {},
   "source": [
    "# Regression"
   ]
  },
  {
   "cell_type": "code",
   "execution_count": 82,
   "metadata": {},
   "outputs": [],
   "source": [
    "from sklearn.linear_model import SGDRegressor"
   ]
  },
  {
   "cell_type": "code",
   "execution_count": 86,
   "metadata": {},
   "outputs": [
    {
     "data": {
      "text/plain": [
       "SGDRegressor()"
      ]
     },
     "execution_count": 86,
     "metadata": {},
     "output_type": "execute_result"
    }
   ],
   "source": [
    "y_train = train_set['scaled_price']\n",
    "X_train = train_set.drop('scaled_price',axis=1)\n",
    "reg = SGDRegressor(max_iter=1000, tol=1e-3)\n",
    "reg.fit(X_train,y_train)"
   ]
  },
  {
   "cell_type": "code",
   "execution_count": null,
   "metadata": {},
   "outputs": [],
   "source": [
    "X_test = test_set.drop()"
   ]
  }
 ],
 "metadata": {
  "kernelspec": {
   "display_name": "Python 3",
   "language": "python",
   "name": "python3"
  },
  "language_info": {
   "codemirror_mode": {
    "name": "ipython",
    "version": 3
   },
   "file_extension": ".py",
   "mimetype": "text/x-python",
   "name": "python",
   "nbconvert_exporter": "python",
   "pygments_lexer": "ipython3",
   "version": "3.9.1"
  }
 },
 "nbformat": 4,
 "nbformat_minor": 4
}
